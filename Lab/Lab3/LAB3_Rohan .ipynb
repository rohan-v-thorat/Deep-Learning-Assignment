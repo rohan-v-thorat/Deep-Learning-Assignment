{
  "nbformat": 4,
  "nbformat_minor": 0,
  "metadata": {
    "colab": {
      "name": "LAB3_Rohan.ipynb",
      "provenance": [],
      "collapsed_sections": []
    },
    "kernelspec": {
      "name": "python3",
      "display_name": "Python 3"
    },
    "language_info": {
      "name": "python"
    },
    "accelerator": "GPU"
  },
  "cells": [
    {
      "cell_type": "markdown",
      "source": [
        "#Problem 1"
      ],
      "metadata": {
        "id": "q9Ya-Cl-iuE_"
      }
    },
    {
      "cell_type": "code",
      "source": [
        "import jax.numpy as np\n",
        "\n",
        "def sigmoid(x):\n",
        "    return 1./(1. + np.exp(-x))\n",
        "def tanh(x):\n",
        "\treturn (np.exp(x) - np.exp(-x)) / (np.exp(x) + np.exp(-x))    \n",
        "\n",
        "\n",
        "def f(params, x):\n",
        "    w0 = params[:15]\n",
        "    b0 = params[15:30]\n",
        "    w1 = params[30:45]\n",
        "    b1 = params[60]\n",
        "    x = tanh(x*w0 + b0)\n",
        "    x = tanh(np.sum(x*w1) + b1)\n",
        "    return x"
      ],
      "metadata": {
        "id": "zUHvRrlvxGWm"
      },
      "execution_count": 50,
      "outputs": []
    },
    {
      "cell_type": "code",
      "source": [
        "from jax import random\n",
        "\n",
        "key = random.PRNGKey(0)\n",
        "params = random.normal(key, shape=(31,))"
      ],
      "metadata": {
        "id": "0CmRXHf0tC6v"
      },
      "execution_count": 51,
      "outputs": []
    },
    {
      "cell_type": "code",
      "source": [
        ""
      ],
      "metadata": {
        "id": "nQhrnVpHtE-u"
      },
      "execution_count": 51,
      "outputs": []
    },
    {
      "cell_type": "code",
      "source": [
        "from jax import grad\n",
        "\n",
        "df = grad(f, 1)\n",
        "dfdx=grad(df,1)"
      ],
      "metadata": {
        "id": "snu3DmyRtFES"
      },
      "execution_count": 52,
      "outputs": []
    },
    {
      "cell_type": "code",
      "source": [
        ""
      ],
      "metadata": {
        "id": "azm7SQ3mtYHc"
      },
      "execution_count": 52,
      "outputs": []
    },
    {
      "cell_type": "code",
      "source": [
        "inputs = np.linspace(-1, 1., num=10500)\n"
      ],
      "metadata": {
        "id": "i2y4AEnztMeo"
      },
      "execution_count": 53,
      "outputs": []
    },
    {
      "cell_type": "code",
      "source": [
        "from jax import vmap\n",
        "\n",
        "f_vect = vmap(f, (None, 0))\n",
        "dfdx_vect = vmap(dfdx, (None, 0))"
      ],
      "metadata": {
        "id": "DnPMYB5htPXd"
      },
      "execution_count": 54,
      "outputs": []
    },
    {
      "cell_type": "code",
      "source": [
        "from jax import jit\n",
        "\n",
        "@jit\n",
        "def loss(params, inputs):\n",
        "    eq = dfdx_vect(params, inputs) -1\n",
        "    ic = f(params,-1) - 0.\n",
        "    ic2=f(params,1.)-0.\n",
        "    return np.mean(eq**2)+ ((ic)**2+(ic2)**2)"
      ],
      "metadata": {
        "id": "lGmDn9pQtQvJ"
      },
      "execution_count": 55,
      "outputs": []
    },
    {
      "cell_type": "code",
      "source": [
        "grad_loss = jit(grad(loss, 0))"
      ],
      "metadata": {
        "id": "wBDYxPVxtTeP"
      },
      "execution_count": 56,
      "outputs": []
    },
    {
      "cell_type": "code",
      "source": [
        "epochs =800\n",
        "learning_rate = 0.0015\n",
        "momentum = .98\n",
        "velocity = 0.\n",
        "\n",
        "for epoch in range(epochs):\n",
        "    if epoch % 100 == 0:\n",
        "        print('epoch: %3d loss: %.6f' % (epoch, loss(params, inputs)))\n",
        "    gradient = grad_loss(params + momentum*velocity, inputs)\n",
        "    velocity = momentum*velocity - learning_rate*gradient\n",
        "    params += velocity"
      ],
      "metadata": {
        "colab": {
          "base_uri": "https://localhost:8080/"
        },
        "id": "8KaeDNhbxHWw",
        "outputId": "761ad0d4-b35a-4487-ed2c-46cc7b03adb6"
      },
      "execution_count": 57,
      "outputs": [
        {
          "output_type": "stream",
          "name": "stdout",
          "text": [
            "epoch:   0 loss: 3.278381\n",
            "epoch: 100 loss: 0.252049\n",
            "epoch: 200 loss: 0.051702\n",
            "epoch: 300 loss: 0.018837\n",
            "epoch: 400 loss: 0.013218\n",
            "epoch: 500 loss: 0.012110\n",
            "epoch: 600 loss: 0.011377\n",
            "epoch: 700 loss: 0.010772\n"
          ]
        }
      ]
    },
    {
      "cell_type": "code",
      "source": [
        "import matplotlib.pyplot as plt\n",
        "\n",
        "plt.plot(inputs, .5*(inputs*inputs-1), label='True solution')\n",
        "plt.plot(inputs, f_vect(params, inputs), label='Predicted Value')\n",
        "plt.legend()\n",
        "plt.show()"
      ],
      "metadata": {
        "id": "BpdUUixfxIU8",
        "colab": {
          "base_uri": "https://localhost:8080/",
          "height": 265
        },
        "outputId": "f976dec6-f222-47f0-e433-dc30d0f655e1"
      },
      "execution_count": 58,
      "outputs": [
        {
          "output_type": "display_data",
          "data": {
            "text/plain": [
              "<Figure size 432x288 with 1 Axes>"
            ],
            "image/png": "[encoded data removed]"
          },
          "metadata": {
            "needs_background": "light"
          }
        }
      ]
    },
    {
      "cell_type": "markdown",
      "source": [
        "Here activation function 'tanh' provide predicted value overlapping with true solution. I had also tried to use sigmoid activation function but it showed huge loss , So i prefered tanh function"
      ],
      "metadata": {
        "id": "MW8evmVvesrZ"
      }
    },
    {
      "cell_type": "markdown",
      "source": [
        "#Problem 2"
      ],
      "metadata": {
        "id": "vdE2Y-K6jSEn"
      }
    },
    {
      "cell_type": "code",
      "source": [
        "import jax.numpy as np\n",
        "\n",
        "def sigmoid(x):\n",
        "    return 1./(1. + np.exp(-x))\n",
        "def tanh(x):\n",
        "\treturn (np.exp(x) - np.exp(-x)) / (np.exp(x) + np.exp(-x))    \n",
        "\n",
        "\n",
        "def f(params, x):\n",
        "    w0 = params[:15]\n",
        "    b0 = params[15:30]\n",
        "    w1 = params[30:45]\n",
        "    b1 = params[60]\n",
        "    x = tanh(x*w0 + b0)\n",
        "    x = tanh(np.sum(x*w1) + b1)\n",
        "    return x"
      ],
      "metadata": {
        "id": "r1k-j_57jSFI"
      },
      "execution_count": 59,
      "outputs": []
    },
    {
      "cell_type": "code",
      "source": [
        "from jax import random\n",
        "\n",
        "key = random.PRNGKey(0)\n",
        "params = random.normal(key, shape=(31,))"
      ],
      "metadata": {
        "id": "c3oNnpJwjSFL"
      },
      "execution_count": 60,
      "outputs": []
    },
    {
      "cell_type": "code",
      "source": [
        ""
      ],
      "metadata": {
        "id": "9qCldkjyjSFM"
      },
      "execution_count": 60,
      "outputs": []
    },
    {
      "cell_type": "code",
      "source": [
        "from jax import grad\n",
        "\n",
        "df = grad(f, 1)\n",
        "dfdx=grad(df,1)"
      ],
      "metadata": {
        "id": "s8kvTrJVjSFN"
      },
      "execution_count": 61,
      "outputs": []
    },
    {
      "cell_type": "code",
      "source": [
        ""
      ],
      "metadata": {
        "id": "6MWpvy3ejSFO"
      },
      "execution_count": 61,
      "outputs": []
    },
    {
      "cell_type": "code",
      "source": [
        "inputs = np.linspace(-2, 2., num=10500)\n"
      ],
      "metadata": {
        "id": "-1YzLxUHjSFO"
      },
      "execution_count": 62,
      "outputs": []
    },
    {
      "cell_type": "code",
      "source": [
        "from jax import vmap\n",
        "\n",
        "f_vect = vmap(f, (None, 0))\n",
        "dfdx_vect = vmap(dfdx, (None, 0))"
      ],
      "metadata": {
        "id": "0MThjAbUjSFP"
      },
      "execution_count": 63,
      "outputs": []
    },
    {
      "cell_type": "code",
      "source": [
        "from jax import jit\n",
        "\n",
        "@jit\n",
        "def loss(params, inputs):\n",
        "    eq = dfdx_vect(params, inputs) -2\n",
        "    ic = f(params,-1) - 0.\n",
        "    ic2=f(params,2.)-0.\n",
        "    return np.mean(eq**2)+ ((ic)**2+(ic2)**2)"
      ],
      "metadata": {
        "id": "OuWUDcaMjSFQ"
      },
      "execution_count": 64,
      "outputs": []
    },
    {
      "cell_type": "code",
      "source": [
        "grad_loss = jit(grad(loss, 0))"
      ],
      "metadata": {
        "id": "5DurpjXUjSFR"
      },
      "execution_count": 65,
      "outputs": []
    },
    {
      "cell_type": "code",
      "source": [
        "epochs =800\n",
        "learning_rate = 0.0015\n",
        "momentum = .98\n",
        "velocity = 0.\n",
        "\n",
        "for epoch in range(epochs):\n",
        "    if epoch % 100 == 0:\n",
        "        print('epoch: %3d loss: %.6f' % (epoch, loss(params, inputs)))\n",
        "    gradient = grad_loss(params + momentum*velocity, inputs)\n",
        "    velocity = momentum*velocity - learning_rate*gradient\n",
        "    params += velocity"
      ],
      "metadata": {
        "colab": {
          "base_uri": "https://localhost:8080/"
        },
        "outputId": "0b9bcdc3-0d0c-4963-f4c3-327354509a43",
        "id": "AZ_g8eDXjSFS"
      },
      "execution_count": 66,
      "outputs": [
        {
          "output_type": "stream",
          "name": "stdout",
          "text": [
            "epoch:   0 loss: 6.121270\n",
            "epoch: 100 loss: 2.428862\n",
            "epoch: 200 loss: 2.202896\n",
            "epoch: 300 loss: 2.073065\n",
            "epoch: 400 loss: 1.986615\n",
            "epoch: 500 loss: 1.929261\n",
            "epoch: 600 loss: 1.881480\n",
            "epoch: 700 loss: 1.844081\n"
          ]
        }
      ]
    },
    {
      "cell_type": "code",
      "source": [
        "import matplotlib.pyplot as plt\n",
        "\n",
        "plt.plot(inputs, .5*(inputs*inputs-2), label='True solution for l=2')\n",
        "plt.plot(inputs, f_vect(params, inputs), label='Predicted Value for l = 2')\n",
        "plt.legend()\n",
        "plt.show()"
      ],
      "metadata": {
        "colab": {
          "base_uri": "https://localhost:8080/",
          "height": 265
        },
        "outputId": "2521406e-9d98-4e7c-f6ae-2c4f214d209c",
        "id": "9rRBffSpjSFV"
      },
      "execution_count": 67,
      "outputs": [
        {
          "output_type": "display_data",
          "data": {
            "text/plain": [
              "<Figure size 432x288 with 1 Axes>"
            ],
            "image/png": "[encoded data removed]"
          },
          "metadata": {
            "needs_background": "light"
          }
        }
      ]
    },
    {
      "cell_type": "code",
      "source": [
        "import jax.numpy as np\n",
        "\n",
        "def sigmoid(x):\n",
        "    return 1./(1. + np.exp(-x))\n",
        "def tanh(x):\n",
        "\treturn (np.exp(x) - np.exp(-x)) / (np.exp(x) + np.exp(-x))    \n",
        "\n",
        "\n",
        "def f(params, x):\n",
        "    w0 = params[:15]\n",
        "    b0 = params[15:30]\n",
        "    w1 = params[30:45]\n",
        "    b1 = params[60]\n",
        "    x = tanh(x*w0 + b0)\n",
        "    x = tanh(np.sum(x*w1) + b1)\n",
        "    return x"
      ],
      "metadata": {
        "id": "MvwnuMZdlNL4"
      },
      "execution_count": 68,
      "outputs": []
    },
    {
      "cell_type": "code",
      "source": [
        "from jax import random\n",
        "\n",
        "key = random.PRNGKey(0)\n",
        "params = random.normal(key, shape=(31,))"
      ],
      "metadata": {
        "id": "bKLmVOIflNMc"
      },
      "execution_count": 69,
      "outputs": []
    },
    {
      "cell_type": "code",
      "source": [
        ""
      ],
      "metadata": {
        "id": "sq8CVjm-lNMd"
      },
      "execution_count": 69,
      "outputs": []
    },
    {
      "cell_type": "code",
      "source": [
        "from jax import grad\n",
        "\n",
        "df = grad(f, 1)\n",
        "dfdx=grad(df,1)"
      ],
      "metadata": {
        "id": "ZY5RwIF3lNMd"
      },
      "execution_count": 70,
      "outputs": []
    },
    {
      "cell_type": "code",
      "source": [
        ""
      ],
      "metadata": {
        "id": "sToqWvHblNMe"
      },
      "execution_count": 70,
      "outputs": []
    },
    {
      "cell_type": "code",
      "source": [
        "inputs = np.linspace(-1.5, 1.5, num=10500)\n"
      ],
      "metadata": {
        "id": "aRIiVXNvlNMf"
      },
      "execution_count": 71,
      "outputs": []
    },
    {
      "cell_type": "code",
      "source": [
        "from jax import vmap\n",
        "\n",
        "f_vect = vmap(f, (None, 0))\n",
        "dfdx_vect = vmap(dfdx, (None, 0))"
      ],
      "metadata": {
        "id": "pqrUzbgYlNMf"
      },
      "execution_count": 72,
      "outputs": []
    },
    {
      "cell_type": "code",
      "source": [
        "from jax import jit\n",
        "\n",
        "@jit\n",
        "def loss(params, inputs):\n",
        "    eq = dfdx_vect(params, inputs) -1.5\n",
        "    ic = f(params,-1) - 0.\n",
        "    ic2=f(params,1.5)-0.\n",
        "    return np.mean(eq**2)+ ((ic)**2+(ic2)**2)"
      ],
      "metadata": {
        "id": "9TrGrfYUlNMg"
      },
      "execution_count": 73,
      "outputs": []
    },
    {
      "cell_type": "code",
      "source": [
        "grad_loss = jit(grad(loss, 0))"
      ],
      "metadata": {
        "id": "k2mqtdrKlNMh"
      },
      "execution_count": 74,
      "outputs": []
    },
    {
      "cell_type": "code",
      "source": [
        "epochs =800\n",
        "learning_rate = 0.0015\n",
        "momentum = .98\n",
        "velocity = 0.\n",
        "\n",
        "for epoch in range(epochs):\n",
        "    if epoch % 100 == 0:\n",
        "        print('epoch: %3d loss: %.6f' % (epoch, loss(params, inputs)))\n",
        "    gradient = grad_loss(params + momentum*velocity, inputs)\n",
        "    velocity = momentum*velocity - learning_rate*gradient\n",
        "    params += velocity"
      ],
      "metadata": {
        "colab": {
          "base_uri": "https://localhost:8080/"
        },
        "outputId": "209ca020-c592-4134-ac7d-053f6121cd56",
        "id": "N78-k2ETlNMi"
      },
      "execution_count": 75,
      "outputs": [
        {
          "output_type": "stream",
          "name": "stdout",
          "text": [
            "epoch:   0 loss: 4.465652\n",
            "epoch: 100 loss: 0.802569\n",
            "epoch: 200 loss: 0.460812\n",
            "epoch: 300 loss: 0.416083\n",
            "epoch: 400 loss: 0.382945\n",
            "epoch: 500 loss: 0.394710\n",
            "epoch: 600 loss: 0.338699\n",
            "epoch: 700 loss: 0.332467\n"
          ]
        }
      ]
    },
    {
      "cell_type": "code",
      "source": [
        "import matplotlib.pyplot as plt\n",
        "\n",
        "plt.plot(inputs, .5*(inputs*inputs-1.5), label='True solution for l=1.5')\n",
        "plt.plot(inputs, f_vect(params, inputs), label='Predicted Value for l = 1.5')\n",
        "plt.legend()\n",
        "plt.show()"
      ],
      "metadata": {
        "colab": {
          "base_uri": "https://localhost:8080/",
          "height": 265
        },
        "outputId": "5df5a658-cd16-4b89-8e08-238ad96f99c7",
        "id": "PivTJDRnlNMj"
      },
      "execution_count": 76,
      "outputs": [
        {
          "output_type": "display_data",
          "data": {
            "text/plain": [
              "<Figure size 432x288 with 1 Axes>"
            ],
            "image/png": "[encoded data removed]"
          },
          "metadata": {
            "needs_background": "light"
          }
        }
      ]
    },
    {
      "cell_type": "code",
      "source": [
        "import jax.numpy as np\n",
        "\n",
        "def sigmoid(x):\n",
        "    return 1./(1. + np.exp(-x))\n",
        "def tanh(x):\n",
        "\treturn (np.exp(x) - np.exp(-x)) / (np.exp(x) + np.exp(-x))    \n",
        "\n",
        "\n",
        "def f(params, x):\n",
        "    w0 = params[:15]\n",
        "    b0 = params[15:30]\n",
        "    w1 = params[30:45]\n",
        "    b1 = params[60]\n",
        "    x = tanh(x*w0 + b0)\n",
        "    x = tanh(np.sum(x*w1) + b1)\n",
        "    return x"
      ],
      "metadata": {
        "id": "lsdrReVBlmWj"
      },
      "execution_count": 77,
      "outputs": []
    },
    {
      "cell_type": "code",
      "source": [
        "from jax import random\n",
        "\n",
        "key = random.PRNGKey(0)\n",
        "params = random.normal(key, shape=(31,))"
      ],
      "metadata": {
        "id": "0P1gFMxHlmXB"
      },
      "execution_count": 78,
      "outputs": []
    },
    {
      "cell_type": "code",
      "source": [
        ""
      ],
      "metadata": {
        "id": "4vKyETKelmXC"
      },
      "execution_count": 78,
      "outputs": []
    },
    {
      "cell_type": "code",
      "source": [
        "from jax import grad\n",
        "\n",
        "df = grad(f, 1)\n",
        "dfdx=grad(df,1)"
      ],
      "metadata": {
        "id": "9iER8G21lmXC"
      },
      "execution_count": 79,
      "outputs": []
    },
    {
      "cell_type": "code",
      "source": [
        ""
      ],
      "metadata": {
        "id": "gMyipmsIlmXD"
      },
      "execution_count": 79,
      "outputs": []
    },
    {
      "cell_type": "code",
      "source": [
        "inputs = np.linspace(-1.25, 1.25, num=10500)\n"
      ],
      "metadata": {
        "id": "bqJRDUSzlmXE"
      },
      "execution_count": 80,
      "outputs": []
    },
    {
      "cell_type": "code",
      "source": [
        "from jax import vmap\n",
        "\n",
        "f_vect = vmap(f, (None, 0))\n",
        "dfdx_vect = vmap(dfdx, (None, 0))"
      ],
      "metadata": {
        "id": "d0fDUzJ5lmXF"
      },
      "execution_count": 81,
      "outputs": []
    },
    {
      "cell_type": "code",
      "source": [
        "from jax import jit\n",
        "\n",
        "@jit\n",
        "def loss(params, inputs):\n",
        "    eq = dfdx_vect(params, inputs) -1.25\n",
        "    ic = f(params,-1) - 0.\n",
        "    ic2=f(params,1.25)-0.\n",
        "    return np.mean(eq**2)+ ((ic)**2+(ic2)**2)"
      ],
      "metadata": {
        "id": "OQmrwrDLlmXF"
      },
      "execution_count": 82,
      "outputs": []
    },
    {
      "cell_type": "code",
      "source": [
        "grad_loss = jit(grad(loss, 0))"
      ],
      "metadata": {
        "id": "2Dd2L7B2lmXG"
      },
      "execution_count": 83,
      "outputs": []
    },
    {
      "cell_type": "code",
      "source": [
        "epochs =800\n",
        "learning_rate = 0.0015\n",
        "momentum = .98\n",
        "velocity = 0.\n",
        "\n",
        "for epoch in range(epochs):\n",
        "    if epoch % 100 == 0:\n",
        "        print('epoch: %3d loss: %.6f' % (epoch, loss(params, inputs)))\n",
        "    gradient = grad_loss(params + momentum*velocity, inputs)\n",
        "    velocity = momentum*velocity - learning_rate*gradient\n",
        "    params += velocity"
      ],
      "metadata": {
        "colab": {
          "base_uri": "https://localhost:8080/"
        },
        "outputId": "bc40cfeb-7dfb-4aad-91a3-21de3ff26196",
        "id": "uszF_DIalmXH"
      },
      "execution_count": 84,
      "outputs": [
        {
          "output_type": "stream",
          "name": "stdout",
          "text": [
            "epoch:   0 loss: 3.848252\n",
            "epoch: 100 loss: 0.326873\n",
            "epoch: 200 loss: 0.077804\n",
            "epoch: 300 loss: 0.050340\n",
            "epoch: 400 loss: 0.041194\n",
            "epoch: 500 loss: 0.035317\n",
            "epoch: 600 loss: 0.030787\n",
            "epoch: 700 loss: 0.027336\n"
          ]
        }
      ]
    },
    {
      "cell_type": "code",
      "source": [
        "import matplotlib.pyplot as plt\n",
        "\n",
        "plt.plot(inputs, .5*(inputs*inputs-1.25), label='True solution for l=1.25')\n",
        "plt.plot(inputs, f_vect(params, inputs), label='Predicted Value for l = 1.25')\n",
        "plt.legend()\n",
        "plt.show()"
      ],
      "metadata": {
        "colab": {
          "base_uri": "https://localhost:8080/",
          "height": 265
        },
        "outputId": "c9ef3fc8-3b03-4b82-85cc-5d51cb8ff02d",
        "id": "i-jBqVPDlmXJ"
      },
      "execution_count": 85,
      "outputs": [
        {
          "output_type": "display_data",
          "data": {
            "text/plain": [
              "<Figure size 432x288 with 1 Axes>"
            ],
            "image/png": "[encoded data removed]"
          },
          "metadata": {
            "needs_background": "light"
          }
        }
      ]
    }
  ]
}